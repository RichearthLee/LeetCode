{
 "cells": [
  {
   "cell_type": "code",
   "execution_count": 7,
   "metadata": {},
   "outputs": [
    {
     "name": "stdout",
     "output_type": "stream",
     "text": [
      "False\n",
      "[0, 1, 2]\n",
      "True\n",
      "[0, 1, 2]\n"
     ]
    }
   ],
   "source": [
    "arr = [0, 1,2]\n",
    "arr1 = []\n",
    "print(not arr)\n",
    "print(arr)\n",
    "print(not arr1)\n",
    "\n",
    "if arr:\n",
    "    print (arr)"
   ]
  },
  {
   "cell_type": "code",
   "execution_count": 6,
   "metadata": {},
   "outputs": [
    {
     "name": "stdout",
     "output_type": "stream",
     "text": [
      "{}\n",
      "{'v1': 1, 'v2': 2}\n",
      "<class 'dict'>\n"
     ]
    }
   ],
   "source": [
    "data = dict()\n",
    "print (data)\n",
    "\n",
    "data1 = {'v1':1 , 'v2':2}\n",
    "print(data1)\n",
    "print(type(data1))"
   ]
  },
  {
   "cell_type": "code",
   "execution_count": 9,
   "metadata": {},
   "outputs": [
    {
     "name": "stdout",
     "output_type": "stream",
     "text": [
      "1 2 3\n"
     ]
    }
   ],
   "source": [
    "def list_test():\n",
    "    a = 1;\n",
    "    b = 2;\n",
    "    c = 3;\n",
    "    return a,b,c\n",
    "\n",
    "q ,w ,e = list_test()\n",
    "\n",
    "print(q,w,e)"
   ]
  }
 ],
 "metadata": {
  "kernelspec": {
   "display_name": "Python 3",
   "language": "python",
   "name": "python3"
  },
  "language_info": {
   "codemirror_mode": {
    "name": "ipython",
    "version": 3
   },
   "file_extension": ".py",
   "mimetype": "text/x-python",
   "name": "python",
   "nbconvert_exporter": "python",
   "pygments_lexer": "ipython3",
   "version": "3.7.0"
  }
 },
 "nbformat": 4,
 "nbformat_minor": 2
}
